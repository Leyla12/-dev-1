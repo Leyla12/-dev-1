{
 "cells": [
  {
   "cell_type": "code",
   "execution_count": 1,
   "id": "615ea480",
   "metadata": {},
   "outputs": [
    {
     "name": "stdout",
     "output_type": "stream",
     "text": [
      "Babanın bugünkü yaşı: 30\n"
     ]
    }
   ],
   "source": [
    "cocuk_yaslari_toplami = 5\n",
    "baba_yasi_3_yil_sonra = (cocuk_yaslari_toplami+6)*3\n",
    "baba_bugunku_yasi = (baba_yasi_3_yil_sonra - 3)\n",
    "print(\"Babanın bugünkü yaşı:\", baba_bugunku_yasi)"
   ]
  },
  {
   "cell_type": "code",
   "execution_count": 14,
   "id": "143883af",
   "metadata": {},
   "outputs": [
    {
     "name": "stdout",
     "output_type": "stream",
     "text": [
      "Veri bilimi, verilerden değer elde etmek için istatistik, bilimsel yöntemler, yapay zeka (AI) ve veri analizi dahil\n",
      "olmak üzere birçok alanı bir araya getirir. Veri Bilimiyle uğraşan kişilere VERİ BİLİMci denir. Bu\n",
      "kişiler web, akıllı telefonlar, müşteriler, sensörler ve diğer kaynaklardan toplanan verileri analiz etmek ve bunlardan eyleme \n",
      "dönüştürülebilir içgörüler üretmek amacıyla bir dizi beceriyi bir araya getirir.\n"
     ]
    }
   ],
   "source": [
    "metin = \"\"\"Veri bilimi, verilerden değer elde etmek için istatistik, bilimsel yöntemler, yapay zeka (AI) ve veri analizi dahil\n",
    "olmak üzere birçok alanı bir araya getirir. Veri Bilimiyle uğraşan kişilere veri bilimci denir. Bu\n",
    "kişiler web, akıllı telefonlar, müşteriler, sensörler ve diğer kaynaklardan toplanan verileri analiz etmek ve bunlardan eyleme \n",
    "dönüştürülebilir içgörüler üretmek amacıyla bir dizi beceriyi bir araya getirir.\"\"\"\n",
    "\n",
    "duzeltilmis_metin = metin.replace(\"veri bilim\", \"VERİ BİLİM\")\n",
    "\n",
    "print(duzeltilmis_metin)"
   ]
  },
  {
   "cell_type": "code",
   "execution_count": 17,
   "id": "4b18d736",
   "metadata": {},
   "outputs": [
    {
     "name": "stdout",
     "output_type": "stream",
     "text": [
      "Leyla Şimşek 23 Antalya 2.71\n"
     ]
    }
   ],
   "source": [
    "print (\"Leyla Şimşek 23 Antalya 2.71\")\n"
   ]
  },
  {
   "cell_type": "code",
   "execution_count": 22,
   "id": "8a8f5466",
   "metadata": {},
   "outputs": [
    {
     "name": "stdout",
     "output_type": "stream",
     "text": [
      "veri bilimi\n",
      "\n",
      "\n",
      "\n",
      "\n",
      "\n",
      "\n",
      "\n",
      "\n",
      "\n",
      "\n",
      "\n",
      "alanlardan biridir.\n",
      "\n",
      "\n",
      "\n",
      "\n",
      "\n",
      "\n",
      "\n",
      "\n",
      "\n",
      "\n",
      "\n",
      "\n",
      "\n",
      "\n",
      "\n",
      "\n",
      "\n",
      "\n",
      "\n"
     ]
    }
   ],
   "source": [
    "metin = \"veri bilimi günümüzün en heyecan verici alanlardan biridir.\"\n",
    "veri_bilimi = metin[0:11]\n",
    "alanlardan_biridir = metin[-19:]\n",
    "\n",
    "print(veri_bilimi + \"\\n\" * len(veri_bilimi))\n",
    "print(alanlardan_biridir + \"\\n\" * len(alanlardan_biridir))"
   ]
  },
  {
   "cell_type": "code",
   "execution_count": 25,
   "id": "c9b4f78f",
   "metadata": {},
   "outputs": [
    {
     "name": "stdout",
     "output_type": "stream",
     "text": [
      "veri bilimi küçük harflerle yazılmıştır.\n",
      "VERİ BİLİMİ büyük harflerle yazılmıştır.\n"
     ]
    }
   ],
   "source": [
    "def buyuk_harf_mi(kelime):\n",
    "    if kelime == kelime.lower():\n",
    "        return False\n",
    "    else:\n",
    "       return True\n",
    "\n",
    "if buyuk_harf_mi(\"veri bilimi\"):\n",
    "    print(\"veri bilimi büyük harflerle yazılmıştır.\")\n",
    "else:\n",
    "    print(\"veri bilimi küçük harflerle yazılmıştır.\")\n",
    "\n",
    "if buyuk_harf_mi(\"VERİ BİLİMİ\"):\n",
    "    print(\"VERİ BİLİMİ büyük harflerle yazılmıştır.\")\n",
    "else:\n",
    "    print(\"VERİ BİLİMİ küçük harflerle yazılmıştır.\")"
   ]
  },
  {
   "cell_type": "code",
   "execution_count": 26,
   "id": "0cf2af04",
   "metadata": {},
   "outputs": [
    {
     "name": "stdout",
     "output_type": "stream",
     "text": [
      "veri bilimi küçük harflerle yazılmıştır.\n",
      "VERİ BİLİMİ büyük harflerle yazılmıştır.\n"
     ]
    }
   ],
   "source": [
    "def buyuk_harf_mi(kelime):\n",
    "    if kelime == kelime.upper():\n",
    "        return True\n",
    "    else:\n",
    "        return False\n",
    "\n",
    "if buyuk_harf_mi(\"veri bilimi\"):\n",
    "    print(\"veri bilimi büyük harflerle yazılmıştır.\")\n",
    "else:\n",
    "    print(\"veri bilimi küçük harflerle yazılmıştır.\")\n",
    "\n",
    "if buyuk_harf_mi(\"VERİ BİLİMİ\"):\n",
    "    print(\"VERİ BİLİMİ büyük harflerle yazılmıştır.\")\n",
    "else:\n",
    "    print(\"VERİ BİLİMİ küçük harflerle yazılmıştır.\")"
   ]
  },
  {
   "cell_type": "code",
   "execution_count": 31,
   "id": "eb943820",
   "metadata": {},
   "outputs": [],
   "source": [
    "listem =[\"Leyla\", \"Şimşek\", 23,\"Antalya\", 2.71]"
   ]
  },
  {
   "cell_type": "code",
   "execution_count": 32,
   "id": "9d574aff",
   "metadata": {},
   "outputs": [
    {
     "name": "stdout",
     "output_type": "stream",
     "text": [
      "[23, 'Antalya', 2.71]\n"
     ]
    }
   ],
   "source": [
    "listem =[\"Leyla\", \"Şimşek\", 23,\"Antalya\", 2.71]\n",
    "listem2 = [listem[2], listem[3], listem[4]]\n",
    "print(listem2)"
   ]
  },
  {
   "cell_type": "code",
   "execution_count": 51,
   "id": "6d8d9d7a",
   "metadata": {},
   "outputs": [
    {
     "name": "stdout",
     "output_type": "stream",
     "text": [
      "<class 'int'>\n",
      "<class 'str'>\n",
      "<class 'float'>\n"
     ]
    }
   ],
   "source": [
    "print(type(listem2[0])) \n",
    "print(type(listem2[1]))  \n",
    "print(type(listem2[2]))"
   ]
  },
  {
   "cell_type": "code",
   "execution_count": 77,
   "id": "dcf9663b",
   "metadata": {},
   "outputs": [
    {
     "name": "stdout",
     "output_type": "stream",
     "text": [
      "[23, 'Antalya', 2.71, ['Ali', 90, 'Mehmet'], ['Ali', 90, 'Mehmet']]\n"
     ]
    }
   ],
   "source": [
    "\n",
    "eklenecek_liste = [\"Ali\", 90, \"Mehmet\"]\n",
    "listem2.append(eklenecek_liste)\n",
    "print(listem2) "
   ]
  },
  {
   "cell_type": "code",
   "execution_count": 78,
   "id": "cd8318c2",
   "metadata": {},
   "outputs": [
    {
     "name": "stdout",
     "output_type": "stream",
     "text": [
      "['Ali', 90]\n"
     ]
    }
   ],
   "source": [
    "listem2 = [23, 'Antalya', 2.71, ['Ali', 90, 'Mehmet']]\n",
    "Listem3 = listem2[3][0:2]\n",
    "print(Listem3)"
   ]
  },
  {
   "cell_type": "code",
   "execution_count": 93,
   "id": "0ab3bc62",
   "metadata": {},
   "outputs": [
    {
     "name": "stdout",
     "output_type": "stream",
     "text": [
      "[23, 'Antalya', 2.71, ['Ali', 90, 'Mehmet'], [], [], []]\n"
     ]
    }
   ],
   "source": [
    "listem2.append(listem3)\n",
    "print(listem2)"
   ]
  },
  {
   "cell_type": "code",
   "execution_count": 4,
   "id": "8009d401",
   "metadata": {},
   "outputs": [
    {
     "ename": "ValueError",
     "evalue": "list.remove(x): x not in list",
     "output_type": "error",
     "traceback": [
      "\u001b[1;31m---------------------------------------------------------------------------\u001b[0m",
      "\u001b[1;31mValueError\u001b[0m                                Traceback (most recent call last)",
      "\u001b[1;32m~\\AppData\\Local\\Temp\\ipykernel_3840\\852881714.py\u001b[0m in \u001b[0;36m<module>\u001b[1;34m\u001b[0m\n\u001b[1;32m----> 1\u001b[1;33m \u001b[0mlistem2\u001b[0m\u001b[1;33m.\u001b[0m\u001b[0mremove\u001b[0m\u001b[1;33m(\u001b[0m\u001b[1;33m[\u001b[0m\u001b[1;36m90\u001b[0m\u001b[1;33m]\u001b[0m\u001b[1;33m)\u001b[0m\u001b[1;33m\u001b[0m\u001b[1;33m\u001b[0m\u001b[0m\n\u001b[0m\u001b[0;32m      2\u001b[0m \u001b[0mprint\u001b[0m\u001b[1;33m(\u001b[0m\u001b[0mlistem2\u001b[0m\u001b[1;33m)\u001b[0m\u001b[1;33m\u001b[0m\u001b[1;33m\u001b[0m\u001b[0m\n",
      "\u001b[1;31mValueError\u001b[0m: list.remove(x): x not in list"
     ]
    }
   ],
   "source": [
    "listem2.remove([90])\n",
    "print(listem2)"
   ]
  },
  {
   "cell_type": "code",
   "execution_count": 130,
   "id": "c56b01e5",
   "metadata": {},
   "outputs": [
    {
     "name": "stdout",
     "output_type": "stream",
     "text": [
      "[9, 8, 7, 6, 5, 4, 3, 2, 1]\n"
     ]
    }
   ],
   "source": [
    "yeni_liste = []\n",
    "for i in range(10,1,-1):\n",
    "    i-=1\n",
    "    yeni_liste.append(i)\n",
    "\n",
    "print(yeni_liste)"
   ]
  },
  {
   "cell_type": "code",
   "execution_count": 1,
   "id": "e5487622",
   "metadata": {},
   "outputs": [
    {
     "name": "stdout",
     "output_type": "stream",
     "text": [
      "[9, 8, 7, 6, 5, 4, 3, 2, 1]\n",
      "7 elemanının indeksi: 2\n",
      "2 elemanının indeksi: 7\n"
     ]
    }
   ],
   "source": [
    "yeni_liste = []\n",
    "for i in range(10,1,-1):\n",
    "    i -= 1\n",
    "    yeni_liste.append(i)\n",
    "print(yeni_liste)\n",
    "print(\"7 elemanının indeksi:\", yeni_liste.index(7))\n",
    "print(\"2 elemanının indeksi:\", yeni_liste.index(2))"
   ]
  },
  {
   "cell_type": "code",
   "execution_count": 8,
   "id": "9a3ce3dd",
   "metadata": {},
   "outputs": [
    {
     "name": "stdout",
     "output_type": "stream",
     "text": [
      "[23, 'Antalya', 2.71]\n",
      "[23, 'Antalya', 2.71, ['Ali', 90, 'Mehmet']]\n",
      "['Ali', 90]\n",
      "[23, 'Antalya', 2.71, ['Ali', 90, 'Mehmet'], ['Ali', 90]]\n"
     ]
    }
   ],
   "source": [
    "listem =[\"Leyla\", \"Şimşek\", 23,\"Antalya\", 2.71]\n",
    "listem2 = [listem[2], listem[3], listem[4]]\n",
    "print(listem2)\n",
    "eklenecek_liste = [\"Ali\", 90, \"Mehmet\"]\n",
    "listem2.append(eklenecek_liste)\n",
    "print(listem2) \n",
    "listem2 = [23, 'Antalya', 2.71, ['Ali', 90, 'Mehmet']]\n",
    "listem3 = listem2[3][0:2]\n",
    "print(Listem3)\n",
    "listem2.append(listem3)\n",
    "print(listem2)\n",
    "tuple1=tuple(listem2)"
   ]
  },
  {
   "cell_type": "code",
   "execution_count": 10,
   "id": "e2654ffe",
   "metadata": {},
   "outputs": [
    {
     "name": "stdout",
     "output_type": "stream",
     "text": [
      "(23, 'Antalya', 2.71, ['Veli', 90, 'Mehmet'], ['Ali', 90])\n"
     ]
    }
   ],
   "source": [
    "list1 = list(tuple1)\n",
    "list1[3][0] = 'Veli'\n",
    "tuple1 = tuple(list1)\n",
    "print(tuple1)"
   ]
  },
  {
   "cell_type": "code",
   "execution_count": 11,
   "id": "38123864",
   "metadata": {},
   "outputs": [
    {
     "name": "stdout",
     "output_type": "stream",
     "text": [
      "(10, 9, 8, 7, 6, 5, 4, 3, 2, 1)\n"
     ]
    }
   ],
   "source": [
    "yeni_tuple = tuple(range(10, 0, -1))\n",
    "print(yeni_tuple)"
   ]
  },
  {
   "cell_type": "code",
   "execution_count": 12,
   "id": "04f50cd2",
   "metadata": {},
   "outputs": [
    {
     "name": "stdout",
     "output_type": "stream",
     "text": [
      "(10, 9, 8, 7, 6, 5, 4, 3, 2, 1)\n",
      "7'nin konumu:  3\n",
      "2'nin konumu:  8\n"
     ]
    }
   ],
   "source": [
    "yeni_tuple = tuple(range(10, 0, -1))\n",
    "print(yeni_tuple)\n",
    "print(\"7'nin konumu: \", yeni_tuple.index(7))\n",
    "print(\"2'nin konumu: \", yeni_tuple.index(2))"
   ]
  },
  {
   "cell_type": "code",
   "execution_count": 14,
   "id": "ae3dd551",
   "metadata": {},
   "outputs": [
    {
     "name": "stdout",
     "output_type": "stream",
     "text": [
      "{'SSE', 'RMSE', 'MSE'}\n"
     ]
    }
   ],
   "source": [
    "sozluk= {\"REG\": [\"RMSE\", 10],\n",
    "\"LOG\": [\"MSE\", 20],\n",
    "\"CART\": [\"SSE\", 10]}\n",
    "\n",
    "set1 = {sozluk[\"REG\"][0], sozluk[\"LOG\"][0], sozluk[\"CART\"][0]}\n",
    "print(set1)"
   ]
  },
  {
   "cell_type": "code",
   "execution_count": 15,
   "id": "1abdb3be",
   "metadata": {},
   "outputs": [
    {
     "name": "stdout",
     "output_type": "stream",
     "text": [
      "{'REG': ['RMSE', 10], 'LOG': ['MSE', 20], 'CART': ['SSE', 30]}\n"
     ]
    }
   ],
   "source": [
    "sozluk = {\"REG\": [\"RMSE\", 10],\n",
    "              \"LOG\": [\"MSE\", 20],\n",
    "              \"CART\": [\"SSE\", 10]}\n",
    "\n",
    "sozluk[\"CART\"] = [\"SSE\", 30]\n",
    "\n",
    "print(sozluk)"
   ]
  },
  {
   "cell_type": "code",
   "execution_count": 17,
   "id": "f3ec56e5",
   "metadata": {},
   "outputs": [
    {
     "name": "stdout",
     "output_type": "stream",
     "text": [
      "{'REG': ['RMSE', 10], 'LOG': ['MSE', 20], 'CART': ['SSE', 10], 'RF': ['SSE', 50]}\n"
     ]
    }
   ],
   "source": [
    "sozluk = {\"REG\": [\"RMSE\", 10],\n",
    "              \"LOG\": [\"MSE\", 20],\n",
    "              \"CART\": [\"SSE\", 10]}\n",
    "sozluk[\"RF\"] = [\"SSE\", 50]\n",
    "print(sozluk)"
   ]
  },
  {
   "cell_type": "code",
   "execution_count": 18,
   "id": "1cec7005",
   "metadata": {},
   "outputs": [
    {
     "name": "stdout",
     "output_type": "stream",
     "text": [
      "{'Ali', 10, 'Mehmet', 20, 'Ayşe'}\n",
      "5\n"
     ]
    }
   ],
   "source": [
    "liste1 = [10, 20, 10, \"Ali\", 10, \"Ali\", \"Mehmet\", 20, \"Ayşe\"]\n",
    "set1 = set(liste1)\n",
    "print(set1)\n",
    "print(len(set1))"
   ]
  },
  {
   "cell_type": "code",
   "execution_count": 24,
   "id": "8d7bd2a8",
   "metadata": {},
   "outputs": [
    {
     "name": "stdout",
     "output_type": "stream",
     "text": [
      "{'Ali', 10, 'Mehmet', 20, 'Ayşe'}\n",
      "Ayşe\n"
     ]
    },
    {
     "ename": "IndexError",
     "evalue": "list index out of range",
     "output_type": "error",
     "traceback": [
      "\u001b[1;31m---------------------------------------------------------------------------\u001b[0m",
      "\u001b[1;31mIndexError\u001b[0m                                Traceback (most recent call last)",
      "\u001b[1;32m~\\AppData\\Local\\Temp\\ipykernel_3840\\2610419704.py\u001b[0m in \u001b[0;36m<module>\u001b[1;34m\u001b[0m\n\u001b[0;32m      4\u001b[0m \u001b[0mliste1\u001b[0m \u001b[1;33m=\u001b[0m \u001b[0mlist\u001b[0m\u001b[1;33m(\u001b[0m\u001b[0mset1\u001b[0m\u001b[1;33m)\u001b[0m\u001b[1;33m\u001b[0m\u001b[1;33m\u001b[0m\u001b[0m\n\u001b[0;32m      5\u001b[0m \u001b[0mprint\u001b[0m\u001b[1;33m(\u001b[0m\u001b[0mliste1\u001b[0m\u001b[1;33m[\u001b[0m\u001b[1;36m4\u001b[0m\u001b[1;33m]\u001b[0m\u001b[1;33m)\u001b[0m\u001b[1;33m\u001b[0m\u001b[1;33m\u001b[0m\u001b[0m\n\u001b[1;32m----> 6\u001b[1;33m \u001b[0mprint\u001b[0m\u001b[1;33m(\u001b[0m\u001b[0mliste1\u001b[0m\u001b[1;33m[\u001b[0m\u001b[1;36m6\u001b[0m\u001b[1;33m]\u001b[0m\u001b[1;33m)\u001b[0m\u001b[1;33m\u001b[0m\u001b[1;33m\u001b[0m\u001b[0m\n\u001b[0m",
      "\u001b[1;31mIndexError\u001b[0m: list index out of range"
     ]
    }
   ],
   "source": [
    "liste1 = [10, 20, 10, \"Ali\", 10, \"Ali\", \"Mehmet\", 20, \"Ayşe\"]\n",
    "set1 = set(liste1)\n",
    "print(set1) \n",
    "liste1 = list(set1)\n",
    "print(liste1[4])\n",
    "print(liste1[6])#sette tekrar eden elemanlar alınmadığı için 5. ve 7. eleman kalmadı"
   ]
  },
  {
   "cell_type": "code",
   "execution_count": 25,
   "id": "4b04bd9a",
   "metadata": {},
   "outputs": [
    {
     "name": "stdout",
     "output_type": "stream",
     "text": [
      "{'Ali', 10, 'Mehmet', 20, 'Ayşe'}\n",
      "{40, 'Veli', 'Mehmet', 20, 'Ayşe'}\n"
     ]
    }
   ],
   "source": [
    "set1 = set(liste1)\n",
    "print(set1)\n",
    "liste1 = list(set1)\n",
    "liste1[liste1.index(\"Ali\")] = \"Veli\"\n",
    "liste1[liste1.index(10)] = 40\n",
    "set1 = set(liste1)\n",
    "print(set1)"
   ]
  },
  {
   "cell_type": "code",
   "execution_count": 26,
   "id": "de0a14dd",
   "metadata": {},
   "outputs": [
    {
     "name": "stdout",
     "output_type": "stream",
     "text": [
      "{5}\n"
     ]
    }
   ],
   "source": [
    "set1 = set([1, 3, 5])\n",
    "set2 = set([1, 2, 3])\n",
    "fark_set = set1.difference(set2)\n",
    "print(fark_set)"
   ]
  },
  {
   "cell_type": "code",
   "execution_count": 27,
   "id": "d2068e80",
   "metadata": {},
   "outputs": [
    {
     "name": "stdout",
     "output_type": "stream",
     "text": [
      "{2}\n"
     ]
    }
   ],
   "source": [
    "set1 = set([1, 3, 5])\n",
    "set2 = set([1, 2, 3])\n",
    "fark_set = set2.difference(set1)\n",
    "print(fark_set)"
   ]
  },
  {
   "cell_type": "code",
   "execution_count": 28,
   "id": "e7150849",
   "metadata": {},
   "outputs": [
    {
     "name": "stdout",
     "output_type": "stream",
     "text": [
      "set1'de olup set2'de olmayanlar:  {5}\n",
      "set2'de olup set1'de olmayanlar:  {2}\n",
      "İki kümede de birbirlerine göre olmayanlar:  {2, 5}\n"
     ]
    }
   ],
   "source": [
    "set1 = set([1, 3, 5])\n",
    "set2 = set([1, 2, 3])\n",
    "fark1 = set1.difference(set2)\n",
    "fark2 = set2.difference(set1)\n",
    "sym_diff = set1.symmetric_difference(set2)\n",
    "print(\"set1'de olup set2'de olmayanlar: \", fark1)\n",
    "print(\"set2'de olup set1'de olmayanlar: \",fark2)\n",
    "print(\"İki kümede de birbirlerine göre olmayanlar: \", sym_diff)"
   ]
  },
  {
   "cell_type": "code",
   "execution_count": 29,
   "id": "38cf4072",
   "metadata": {},
   "outputs": [
    {
     "name": "stdout",
     "output_type": "stream",
     "text": [
      "{1, 3}\n"
     ]
    }
   ],
   "source": [
    "set1 = set([1, 3, 5])\n",
    "set2 = set([1, 2, 3])\n",
    "kesisim = set1.intersection(set2)\n",
    "print(kesisim)"
   ]
  },
  {
   "cell_type": "code",
   "execution_count": 30,
   "id": "88e8ba5d",
   "metadata": {},
   "outputs": [
    {
     "name": "stdout",
     "output_type": "stream",
     "text": [
      "{1, 2, 3, 5}\n"
     ]
    }
   ],
   "source": [
    "set1 = set([1, 3, 5])\n",
    "set2 = set([1, 2, 3])\n",
    "birlesim = set1.union(set2)\n",
    "print(birlesim)"
   ]
  },
  {
   "cell_type": "code",
   "execution_count": 31,
   "id": "3ef56e00",
   "metadata": {},
   "outputs": [
    {
     "name": "stdout",
     "output_type": "stream",
     "text": [
      "İki kümenin kesişimi boş değil.\n"
     ]
    }
   ],
   "source": [
    "set1 = set([1, 3, 5])\n",
    "set2 = set([1, 2, 3])\n",
    "if set1.isdisjoint(set2):\n",
    "    print(\"İki kümenin kesişimi boş.\")\n",
    "else:\n",
    "    print(\"İki kümenin kesişimi boş değil.\")"
   ]
  },
  {
   "cell_type": "code",
   "execution_count": 32,
   "id": "6f34b5f3",
   "metadata": {},
   "outputs": [
    {
     "name": "stdout",
     "output_type": "stream",
     "text": [
      "True\n"
     ]
    }
   ],
   "source": [
    "set1 = {1, 2, 3, 4, 5}\n",
    "set2 = {1, 2, 3}\n",
    "print(set2.issubset(set1))"
   ]
  },
  {
   "cell_type": "code",
   "execution_count": 34,
   "id": "bfe92d05",
   "metadata": {},
   "outputs": [
    {
     "name": "stdout",
     "output_type": "stream",
     "text": [
      "set2, set1'in bir alt kümesi değildir.\n",
      "set1 ve set2 ortak elemanlara sahip.\n"
     ]
    }
   ],
   "source": [
    "set1 = set([1, 3, 5])\n",
    "set2 = set([1, 2, 3])\n",
    "if set2.issubset(set1):\n",
    "    print(\"set2, set1'in bir alt kümesidir.\")\n",
    "else:\n",
    "    print(\"set2, set1'in bir alt kümesi değildir.\")\n",
    "if set1.isdisjoint(set2):\n",
    "    print(\"set1 ve set2 birbirinden farklı elemanlara sahip.\")\n",
    "else:\n",
    "    print(\"set1 ve set2 ortak elemanlara sahip.\")"
   ]
  },
  {
   "cell_type": "code",
   "execution_count": 39,
   "id": "7562ccbe",
   "metadata": {},
   "outputs": [
    {
     "name": "stdout",
     "output_type": "stream",
     "text": [
      "[1200.0, 2400.0, 3600.0, 4800.0, 6000.0]\n"
     ]
    }
   ],
   "source": [
    "def zamli_maaslar(maaslar):\n",
    "    zamlı_maaslar = [maas * 1.2 for maas in maaslar]\n",
    "    return zamlı_maaslar\n",
    "maaslar = [1000, 2000, 3000, 4000, 5000]\n",
    "zamlı_maaslar = zamli_maaslar(maaslar)\n",
    "print(zamlı_maaslar)"
   ]
  },
  {
   "cell_type": "code",
   "execution_count": 41,
   "id": "61d8ee43",
   "metadata": {},
   "outputs": [
    {
     "name": "stdout",
     "output_type": "stream",
     "text": [
      "[1150.0, 2350.0, 3500.0, 4700.0, 5900.0]\n"
     ]
    }
   ],
   "source": [
    "def vergi_kes(zamlı_maaslar):\n",
    "    vergili_maaslar = []\n",
    "    for maas in zamlı_maaslar:\n",
    "        if maas < 2500:\n",
    "            vergili_maaslar.append(maas - 50)\n",
    "        else:\n",
    "            vergili_maaslar.append(maas - 100)\n",
    "    return vergili_maaslar\n",
    "maaslar = [1000, 2000, 3000, 4000, 5000]\n",
    "zamlı_maaslar = zamli_maaslar(maaslar)\n",
    "vergili_maaslar = vergi_kes(zamlı_maaslar)\n",
    "print(vergili_maaslar)"
   ]
  },
  {
   "cell_type": "code",
   "execution_count": 43,
   "id": "7c7bfa37",
   "metadata": {},
   "outputs": [
    {
     "name": "stdout",
     "output_type": "stream",
     "text": [
      "[['John', 'Venessa'], ['Mark', 'Mariam']]\n"
     ]
    }
   ],
   "source": [
    "def gruplandir(students):\n",
    "    grup1 = students[0::2]\n",
    "    grup2 = students[1::2]\n",
    "    return [grup1, grup2]\n",
    "students = [\"John\", \"Mark\", \"Venessa\", \"Mariam\"]\n",
    "gruplar = gruplandir(students)\n",
    "print(gruplar)"
   ]
  },
  {
   "cell_type": "code",
   "execution_count": 51,
   "id": "d6394fd2",
   "metadata": {},
   "outputs": [
    {
     "name": "stdout",
     "output_type": "stream",
     "text": [
      "Hi mY NaMe iS JoHn aNd i aM LeArNiNg pYtHoN\n"
     ]
    }
   ],
   "source": [
    "def alternating(string):\n",
    "    new_string = \"\"\n",
    "\n",
    "    for string_index in range(len(string)):\n",
    "        if string_index % 2 == 0:\n",
    "            new_string += string[string_index].upper()\n",
    "        else:\n",
    "            new_string += string[string_index].lower()\n",
    "\n",
    "    return new_string\n",
    "before = \"hi my name is john and i am learning python\"\n",
    "after = alternating(before)\n",
    "print(after)"
   ]
  },
  {
   "cell_type": "code",
   "execution_count": 52,
   "id": "3e0dfec3",
   "metadata": {},
   "outputs": [
    {
     "name": "stdout",
     "output_type": "stream",
     "text": [
      "Hi mY NaMe iS JoHn aNd i aM LeArNiNg pYtHoN\n"
     ]
    }
   ],
   "source": [
    "def alternating(string):\n",
    "    new_string = \"\"\n",
    "\n",
    "    for i, char in enumerate(string):\n",
    "        if i % 2 == 0:\n",
    "            new_string += char.upper()\n",
    "        else:\n",
    "            new_string += char.lower()\n",
    "\n",
    "    print(new_string)\n",
    "\n",
    "alternating(\"hi my name is john and i am learning python\")"
   ]
  },
  {
   "cell_type": "code",
   "execution_count": null,
   "id": "6cde0095",
   "metadata": {},
   "outputs": [],
   "source": [
    "def greet():\n",
    "    name = input(\"Adınız nedir? \")\n",
    "    age = input(\"Yaşınız kaç? \")\n",
    "    print(f\"Merhaba benim ismim {name}, {age} yaşındayım!\")"
   ]
  }
 ],
 "metadata": {
  "kernelspec": {
   "display_name": "Python 3 (ipykernel)",
   "language": "python",
   "name": "python3"
  },
  "language_info": {
   "codemirror_mode": {
    "name": "ipython",
    "version": 3
   },
   "file_extension": ".py",
   "mimetype": "text/x-python",
   "name": "python",
   "nbconvert_exporter": "python",
   "pygments_lexer": "ipython3",
   "version": "3.9.13"
  }
 },
 "nbformat": 4,
 "nbformat_minor": 5
}
